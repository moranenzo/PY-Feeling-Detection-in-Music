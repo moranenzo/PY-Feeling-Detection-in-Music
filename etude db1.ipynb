{
 "cells": [
  {
   "cell_type": "markdown",
   "metadata": {},
   "source": [
    "Nous allons nous attacher à l'étude fait de la première Database que nous avons obtenue. Initialement prévue pour récupérer les données d'une playlist de 10000 sons, nous avons fait face à des erreurs dues à un trop grand nombre de requêtes. Nous nous sommes ensuite rendus compte, grâce à l'étude de la première base de données partielle obtenues, que l'apporche d'une grande playlist compilant de nombreux moreceaux n'était pas la meilleure. Ce qui suit décrit cette première étude."
   ]
  },
  {
   "cell_type": "markdown",
   "metadata": {},
   "source": [
    "Importons d'abord les modules nécessaires:"
   ]
  },
  {
   "cell_type": "code",
   "execution_count": 1,
   "metadata": {},
   "outputs": [],
   "source": [
    "import spotipy\n",
    "from spotipy.oauth2 import SpotifyClientCredentials\n",
    "import csv\n",
    "import time"
   ]
  },
  {
   "cell_type": "markdown",
   "metadata": {},
   "source": [
    "On initialise le client spotify pour l'obtention des données via l'API"
   ]
  },
  {
   "cell_type": "code",
   "execution_count": 2,
   "metadata": {},
   "outputs": [],
   "source": [
    "def spotify_client():\n",
    "    \"\"\"\n",
    "    Initialize the Spotify API client with client credentials.\n",
    "    Returns an authenticated Spotify client.\n",
    "    \"\"\"\n",
    "    return spotipy.Spotify(auth_manager=SpotifyClientCredentials(\n",
    "        client_id=\"d666ee3ae4c94b85945c3dba39776f4f\",\n",
    "        client_secret=\"c1973a77acbe48c0b2f105e4f57d7d46\" \n",
    "    ))"
   ]
  },
  {
   "cell_type": "markdown",
   "metadata": {},
   "source": []
  }
 ],
 "metadata": {
  "kernelspec": {
   "display_name": "Python 3",
   "language": "python",
   "name": "python3"
  },
  "language_info": {
   "codemirror_mode": {
    "name": "ipython",
    "version": 3
   },
   "file_extension": ".py",
   "mimetype": "text/x-python",
   "name": "python",
   "nbconvert_exporter": "python",
   "pygments_lexer": "ipython3",
   "version": "3.10.10"
  }
 },
 "nbformat": 4,
 "nbformat_minor": 2
}
