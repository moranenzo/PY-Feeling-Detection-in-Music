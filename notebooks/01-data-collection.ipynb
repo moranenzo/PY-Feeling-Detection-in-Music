{
 "cells": [
  {
   "cell_type": "markdown",
   "metadata": {},
   "source": [
    "# DATA COLLECTION"
   ]
  },
  {
   "cell_type": "markdown",
   "metadata": {},
   "source": [
    "Tout d'abord nous devons importer toutes les librairies qui nous seront nécessaires pour cette partie"
   ]
  },
  {
   "cell_type": "code",
   "execution_count": 4,
   "metadata": {},
   "outputs": [
    {
     "name": "stdout",
     "output_type": "stream",
     "text": [
      "Collecting spotipy\n",
      "  Downloading spotipy-2.24.0-py3-none-any.whl.metadata (4.9 kB)\n",
      "Collecting redis>=3.5.3 (from spotipy)\n",
      "  Downloading redis-5.2.1-py3-none-any.whl.metadata (9.1 kB)\n",
      "Requirement already satisfied: requests>=2.25.0 in /opt/conda/lib/python3.12/site-packages (from spotipy) (2.32.3)\n",
      "Requirement already satisfied: urllib3>=1.26.0 in /opt/conda/lib/python3.12/site-packages (from spotipy) (2.2.3)\n",
      "Requirement already satisfied: charset_normalizer<4,>=2 in /opt/conda/lib/python3.12/site-packages (from requests>=2.25.0->spotipy) (3.4.0)\n",
      "Requirement already satisfied: idna<4,>=2.5 in /opt/conda/lib/python3.12/site-packages (from requests>=2.25.0->spotipy) (3.10)\n",
      "Requirement already satisfied: certifi>=2017.4.17 in /opt/conda/lib/python3.12/site-packages (from requests>=2.25.0->spotipy) (2024.8.30)\n",
      "Downloading spotipy-2.24.0-py3-none-any.whl (30 kB)\n",
      "Downloading redis-5.2.1-py3-none-any.whl (261 kB)\n",
      "Installing collected packages: redis, spotipy\n",
      "Successfully installed redis-5.2.1 spotipy-2.24.0\n",
      "Note: you may need to restart the kernel to use updated packages.\n"
     ]
    }
   ],
   "source": [
    "pip install spotipy"
   ]
  },
  {
   "cell_type": "code",
   "execution_count": 5,
   "metadata": {},
   "outputs": [],
   "source": [
    "import spotipy\n",
    "from spotipy.oauth2 import SpotifyClientCredentials\n",
    "import csv\n",
    "import time"
   ]
  },
  {
   "cell_type": "markdown",
   "metadata": {},
   "source": [
    "## I - Using Spotify's API"
   ]
  },
  {
   "cell_type": "markdown",
   "metadata": {},
   "source": [
    "Nous avons d'abord essayé de créer une base de données grâce à l'API Spotify."
   ]
  },
  {
   "cell_type": "markdown",
   "metadata": {},
   "source": [
    "### I. 1. Requêter l'API Spotify pour constituer un premier dataset"
   ]
  },
  {
   "cell_type": "markdown",
   "metadata": {},
   "source": [
    "Tout d'abord, Spotify ne met pas à disposition une quelconque base de donnée déjà constituée, pas même une liste de morceaux. Nous allons donc devoir faire des requêtes successives à l'API pour récolter les informations sur les morceaux choisis, afin de constituer notre premier dataset. Chaque requête permet d'obtenir les metadonnées d'un artiste donné, ou d'une playlist donnée. C'est ce que nous avons choisi de faire.\n",
    "\n",
    "Pour minimiser le nombre de requêtes, nous sélectionnons une playlist de 10 000 morceaux déjà faite par un utilisateur Spotify, afin d'obtenir des informations sur chaque morceau qui la compose : titre, id, artist, artist_id. Ensuite, nous récupérons les informations qui nous intéressent sur chaque morceau : les track features, qui sont un tas d'indices quantitatifs Enfin, nous récupérons le genre qui n'est associé qu'à l'artiste, et pas au morceau. C'est ici une limite préoccupante : le genre qui est la variable à prédire n'est en fait que le genre de l'artiste et pas le genre véritable du morceau.\n",
    "\n",
    "D'abord, on initialise le client Spotify pour l'obtention des données via l'API grâce au token d'accès."
   ]
  },
  {
   "cell_type": "code",
   "execution_count": 12,
   "metadata": {},
   "outputs": [],
   "source": [
    "def spotify_client():\n",
    "    \"\"\"\n",
    "    Initialize the Spotify API client with client credentials.\n",
    "    Returns an authenticated Spotify client.\n",
    "    \"\"\"\n",
    "    return spotipy.Spotify(auth_manager=SpotifyClientCredentials(\n",
    "        client_id=\"d666ee3ae4c94b85945c3dba39776f4f\",\n",
    "        client_secret=\"c1973a77acbe48c0b2f105e4f57d7d46\" \n",
    "    ))"
   ]
  },
  {
   "cell_type": "markdown",
   "metadata": {},
   "source": [
    "Ensuite, nous utilisons ce client pour notre requête sur la playlist de 10 000 morceaux.\n",
    "\n",
    "Nous entrons l'id de la playlist en question. Nous récupérons les informations de la playlist relatives aux morceaux dans get_all_playlist_tracks. Avec les informations obtenues précédemment, nous créons avec get_track_id_and_artist un dataframe qui pour chaque morceau de la playlist en donne le titre, l'id, l'artist, l'artist id.\n",
    "\n",
    "Notre objectif final est d'obtenir un fichier csv compilant toutes les données fournies par l'API de Spotify dans un fichier csv.\n",
    "Voici la fonction réalisant cette tache :"
   ]
  },
  {
   "cell_type": "code",
   "execution_count": null,
   "metadata": {},
   "outputs": [],
   "source": [
    "def get_playlists_data_to_csv(playlist_ids):\n",
    "    \"\"\"This function allows to fetch the data from different playlists into a csv\n",
    "    Params:\n",
    "        - playlist_ids: a list of playlists we want to fetch our data from\n",
    "    \"\"\"\n",
    "    names=[]\n",
    "    track_data=[]\n",
    "    file_name=''\n",
    "    for playlist in playlist_ids: \n",
    "        print(f\"Fetching playlist {playlist} tracks...\")\n",
    "        tracks = fetch_playlist_tracks(playlist)\n",
    "        print(\"Fetching track data...\")\n",
    "        track_data+=(fetch_track_data(tracks))\n",
    "    for id in playlist_ids:\n",
    "        names.append(spotify_client().playlist(id)['name'])\n",
    "    for name in names:\n",
    "        file_name+=name+'+'\n",
    "    file_name=file_name[:-1]\n",
    "    print(file_name)\n",
    "    if track_data:\n",
    "        save_to_csv(track_data, f\"playlists_{file_name}_data.csv\")\n",
    "    else:\n",
    "        print(\"No data to save.\")"
   ]
  },
  {
   "cell_type": "markdown",
   "metadata": {},
   "source": [
    "Détaillons cette fonction, la fonction fetch_playlist_tracks est définie ci-dessous permet l'obtention d'informations identifiant l'ensemble des musiques d'une playlist."
   ]
  },
  {
   "cell_type": "code",
   "execution_count": 8,
   "metadata": {},
   "outputs": [],
   "source": [
    "def fetch_playlist_tracks(playlist_id):\n",
    "    \"\"\"\n",
    "    Fetch all tracks from a Spotify playlist. \n",
    "    Params:\n",
    "        -playlist_id: Spotify playlist ID.\n",
    "    Returns a list of dictionaries containing track details.\n",
    "    \"\"\"\n",
    "    tracks = []\n",
    "    results = spotify_client().playlist_tracks(playlist_id)\n",
    "    while results:\n",
    "        for item in results['items']:\n",
    "            track = item['track']\n",
    "            if track:  # Ensure the track is not None\n",
    "                tracks.append(track)\n",
    "        results = spotify_client().next(results) if results['next'] else None\n",
    "    return tracks"
   ]
  },
  {
   "cell_type": "markdown",
   "metadata": {},
   "source": [
    "Il faut également obtenir le genre de l'artiste que nous assimilerons dans un premier temps à celui de la musique."
   ]
  },
  {
   "cell_type": "code",
   "execution_count": 9,
   "metadata": {},
   "outputs": [],
   "source": [
    "def fetch_artist_genre(track):\n",
    "    \"\"\"This function fetches the genre of an artist with a track from this artist, it will be \n",
    "    considerated as the genre of the song later\n",
    "\n",
    "    Args:\n",
    "        track a dict the countains infos about the track\n",
    "\n",
    "    Returns: genre a string that is the genre of an artist\n",
    "        \n",
    "    \"\"\"\n",
    "    artist=track['artists'][0]['id']\n",
    "    if spotify_client().artist(artist)['genres'] != []:\n",
    "        return spotify_client().artist(artist)['genres'][0]\n",
    "    else:\n",
    "        return 'N/A'"
   ]
  },
  {
   "cell_type": "markdown",
   "metadata": {},
   "source": [
    "On peut alors obtenir l'ensemble des informations relatives à chaque musique utiles à l'analyse (dansabilité, tempo...) via la fonction `fetch_track_data`. Du fait des restrictions de requêtes imposées par l'API de spotify, nous avons mis en place des requêtes par paquets de 100 chansons suivi d'une pause d'une minute, cette approche nous a permis de constituer une première base de données de 1500 musiques, en répétant ce procédé sur une plus longue période, il serait possible d'obtenir les données de l'ensemble de la playlist mais comme nous le détaillerons plus tard, nous n'avons pas retenu cette approche et nous contenterons de la base de données intermédiaire."
   ]
  },
  {
   "cell_type": "code",
   "execution_count": 10,
   "metadata": {},
   "outputs": [],
   "source": [
    "def fetch_track_data(tracks):\n",
    "    \"\"\"\n",
    "    Fetch metadata and audio features for each track in the playlist.\n",
    "    Params:\n",
    "        -tracks: List of tracks from the playlist.\n",
    "    Returns a list of dictionaries containing track metadata and audio features.\n",
    "    \"\"\"\n",
    "    track_data = []\n",
    "    i=0\n",
    "    j=0\n",
    "    for track in tracks:\n",
    "        track_id = track['id']\n",
    "        i+=1\n",
    "        print(i)\n",
    "        audio_features = spotify_client().audio_features([track_id])[0]\n",
    "        genre=fetch_artist_genre(track)\n",
    "        if audio_features:  # Ensure audio features are available\n",
    "            artist_name = \", \".join([artist['name'] for artist in track['artists']])\n",
    "            dict_track={\"track Name\": track['name'],\n",
    "                \"artists\": artist_name,\n",
    "                \"track_id\": track_id,\n",
    "                \"popularity\": track['popularity'],\n",
    "                \"duration_ms\": track['duration_ms'],\n",
    "                \"explicit\": track['explicit'], 'genre': genre}\n",
    "            for key in audio_features.keys():\n",
    "                dict_track[key]=audio_features[key]\n",
    "            track_data.append(dict_track)\n",
    "        if i==100:\n",
    "            j+=1\n",
    "            save_to_csv(track_data, f\"intermédiaire{j}\")\n",
    "            i=0\n",
    "            time.sleep(60)\n",
    "    return track_data\n"
   ]
  },
  {
   "cell_type": "markdown",
   "metadata": {},
   "source": [
    "Il ne reste plus qu'à sauvegarder le tout au format csv: "
   ]
  },
  {
   "cell_type": "code",
   "execution_count": 11,
   "metadata": {},
   "outputs": [],
   "source": [
    "def save_to_csv(data, filename):\n",
    "    \"\"\"\n",
    "    Save the list of track data to a CSV file.\n",
    "    Params:\n",
    "    :param data: List of dictionaries containing track details.\n",
    "    :param filename: Output CSV file name.\n",
    "    \"\"\"\n",
    "    keys = data[0].keys() if data else []\n",
    "    with open(filename, mode='w', newline='', encoding='utf-8') as file:\n",
    "        writer = csv.DictWriter(file, fieldnames=keys)\n",
    "        writer.writeheader()\n",
    "        writer.writerows(data)\n",
    "    print(f\"Data saved to {filename}\")\n"
   ]
  },
  {
   "cell_type": "markdown",
   "metadata": {},
   "source": [
    "Nous avons réussi à enregistrer une première version de notre df."
   ]
  },
  {
   "cell_type": "markdown",
   "metadata": {},
   "source": [
    "### Val I.1"
   ]
  },
  {
   "cell_type": "markdown",
   "metadata": {},
   "source": [
    "Tout d'abord, Spotify ne met pas à disposition une quelconque base de donnée déjà constituée, pas même une liste de morceaux. Nous allons donc devoir faire des requêtes successives à l'API pour récolter les informations sur les morceaux choisis, afin de constituer notre premier dataset. Chaque requête permet d'obtenir les metadonnées d'un artiste donné, ou d'une playlist donnée. C'est ce que nous avons choisi de faire.\n",
    "\n",
    "Pour minimiser le nombre de requêtes, nous sélectionnons une playlist de 10 000 morceaux déjà faite par un utilisateur Spotify, afin d'obtenir des informations sur chaque morceau qui la compose : titre, id, artist, artist_id. Ensuite, nous récupérons les informations qui nous intéressent sur chaque morceau : les track features, qui sont un tas d'indices quantitatifs Enfin, nous récupérons le genre qui n'est associé qu'à l'artiste, et pas au morceau. C'est ici une limite préoccupante : le genre qui est la variable à prédire n'est en fait que le genre de l'artiste et pas le genre véritable du morceau.\n",
    "\n",
    "D'abord, on initialise le client Spotify pour l'obtention des données via l'API grâce au token d'accès."
   ]
  },
  {
   "cell_type": "code",
   "execution_count": 13,
   "metadata": {},
   "outputs": [],
   "source": [
    "def spotify_client():\n",
    "    \"\"\"\n",
    "    Initialize the Spotify API client with client credentials.\n",
    "    Returns an authenticated Spotify client.\n",
    "    \"\"\"\n",
    "    return spotipy.Spotify(auth_manager=SpotifyClientCredentials(\n",
    "        client_id=\"d666ee3ae4c94b85945c3dba39776f4f\",\n",
    "        client_secret=\"c1973a77acbe48c0b2f105e4f57d7d46\" \n",
    "    ))"
   ]
  },
  {
   "cell_type": "markdown",
   "metadata": {},
   "source": [
    "Ensuite, nous utilisons ce client pour notre requête sur la playlist de 10 000 morceaux.\n",
    "\n",
    "Tout d'abord, nous définissions la fonction `fetch_playlist_tracks` ci-dessous, elle permet l'obtention d'informations identifiant l'ensemble des musiques d'une playlist."
   ]
  },
  {
   "cell_type": "code",
   "execution_count": null,
   "metadata": {},
   "outputs": [],
   "source": [
    "def fetch_playlist_tracks(playlist_id):\n",
    "    \"\"\"\n",
    "    Fetch all tracks from a Spotify playlist. \n",
    "    Params:\n",
    "        -playlist_id: Spotify playlist ID.\n",
    "    Returns a list of dictionaries containing track details.\n",
    "    \"\"\"\n",
    "    tracks = []\n",
    "    results = spotify_client().playlist_tracks(playlist_id)\n",
    "    while results:\n",
    "        for item in results['items']:\n",
    "            track = item['track']\n",
    "            if track:  # Ensure the track is not None\n",
    "                tracks.append(track)\n",
    "        results = spotify_client().next(results) if results['next'] else None\n",
    "    return tracks"
   ]
  },
  {
   "cell_type": "markdown",
   "metadata": {},
   "source": [
    "Puis nous voulons pour chacun de ces morceaux des informations quantitatives. Pour cela nous utilisons `fetch_track_data`.\n",
    "\n",
    "Toutefois, il semblerait que l'API impose une limitation, voilà pourquoi on récolte les informations de 100 morceaux par requête. "
   ]
  },
  {
   "cell_type": "code",
   "execution_count": 17,
   "metadata": {},
   "outputs": [],
   "source": [
    "def fetch_track_data(tracks):\n",
    "    \"\"\"\n",
    "    Fetch metadata and audio features for each track in the playlist.\n",
    "    Params:\n",
    "        -tracks: List of tracks from the playlist.\n",
    "    Returns a list of dictionaries containing track metadata and audio features.\n",
    "    \"\"\"\n",
    "    track_data = []\n",
    "    i=0\n",
    "    j=0\n",
    "    for track in tracks:\n",
    "        track_id = track['id']\n",
    "        i+=1\n",
    "        print(i)\n",
    "        audio_features = spotify_client().audio_features([track_id])[0]\n",
    "        genre=fetch_artist_genre(track)\n",
    "        if audio_features:  # Ensure audio features are available\n",
    "            artist_name = \", \".join([artist['name'] for artist in track['artists']])\n",
    "            dict_track={\"track Name\": track['name'],\n",
    "                \"artists\": artist_name,\n",
    "                \"track_id\": track_id,\n",
    "                \"popularity\": track['popularity'],\n",
    "                \"duration_ms\": track['duration_ms'],\n",
    "                \"explicit\": track['explicit'], 'genre': genre}\n",
    "            for key in audio_features.keys():\n",
    "                dict_track[key]=audio_features[key]\n",
    "            track_data.append(dict_track)\n",
    "        if i==100:\n",
    "            j+=1\n",
    "            save_to_csv(track_data, f\"intermédiaire{j}\")\n",
    "            i=0\n",
    "            time.sleep(60)\n",
    "    return track_data"
   ]
  },
  {
   "cell_type": "markdown",
   "metadata": {},
   "source": [
    "## II - Using a Kaggle DataFrame"
   ]
  }
 ],
 "metadata": {
  "kernelspec": {
   "display_name": "base",
   "language": "python",
   "name": "python3"
  },
  "language_info": {
   "codemirror_mode": {
    "name": "ipython",
    "version": 3
   },
   "file_extension": ".py",
   "mimetype": "text/x-python",
   "name": "python",
   "nbconvert_exporter": "python",
   "pygments_lexer": "ipython3",
   "version": "3.12.7"
  }
 },
 "nbformat": 4,
 "nbformat_minor": 2
}
